{
 "cells": [
  {
   "cell_type": "markdown",
   "id": "aa90a44e",
   "metadata": {},
   "source": [
    "# Importing Libraries"
   ]
  },
  {
   "cell_type": "code",
   "execution_count": 1,
   "id": "1797a0b6",
   "metadata": {},
   "outputs": [],
   "source": [
    "import numpy as np\n",
    "import pandas as pd\n",
    "import seaborn as sns\n",
    "import matplotlib.pyplot as plt"
   ]
  },
  {
   "cell_type": "markdown",
   "id": "c791e6c9",
   "metadata": {},
   "source": [
    "# Reading Dataset"
   ]
  },
  {
   "cell_type": "code",
   "execution_count": 2,
   "id": "761a52ad",
   "metadata": {},
   "outputs": [
    {
     "data": {
      "text/html": [
       "<div>\n",
       "<style scoped>\n",
       "    .dataframe tbody tr th:only-of-type {\n",
       "        vertical-align: middle;\n",
       "    }\n",
       "\n",
       "    .dataframe tbody tr th {\n",
       "        vertical-align: top;\n",
       "    }\n",
       "\n",
       "    .dataframe thead th {\n",
       "        text-align: right;\n",
       "    }\n",
       "</style>\n",
       "<table border=\"1\" class=\"dataframe\">\n",
       "  <thead>\n",
       "    <tr style=\"text-align: right;\">\n",
       "      <th></th>\n",
       "      <th>Developer_Name</th>\n",
       "      <th>Age_Rating</th>\n",
       "      <th>Total_Average_Rating</th>\n",
       "      <th>Total_Number_of_Ratings</th>\n",
       "      <th>Average_Rating_For_Version</th>\n",
       "      <th>Number_of_Ratings_For_Version</th>\n",
       "      <th>Original_Release_Date</th>\n",
       "      <th>Current_Version_Release_Date</th>\n",
       "      <th>Price_USD</th>\n",
       "      <th>Primary_Genre</th>\n",
       "      <th>Languages</th>\n",
       "    </tr>\n",
       "  </thead>\n",
       "  <tbody>\n",
       "    <tr>\n",
       "      <th>0</th>\n",
       "      <td>Wattana Kamdee</td>\n",
       "      <td>4+</td>\n",
       "      <td>-1.0</td>\n",
       "      <td>-1.0</td>\n",
       "      <td>0.0</td>\n",
       "      <td>0</td>\n",
       "      <td>2017-04-10</td>\n",
       "      <td>2017-04-10</td>\n",
       "      <td>0.00</td>\n",
       "      <td>Games</td>\n",
       "      <td>['EN']</td>\n",
       "    </tr>\n",
       "    <tr>\n",
       "      <th>1</th>\n",
       "      <td>CHEN-HUNG LEE</td>\n",
       "      <td>4+</td>\n",
       "      <td>-1.0</td>\n",
       "      <td>-1.0</td>\n",
       "      <td>0.0</td>\n",
       "      <td>0</td>\n",
       "      <td>2016-05-11</td>\n",
       "      <td>2019-05-30</td>\n",
       "      <td>6.99</td>\n",
       "      <td>Education</td>\n",
       "      <td>['EN']</td>\n",
       "    </tr>\n",
       "    <tr>\n",
       "      <th>2</th>\n",
       "      <td>CHEN-HUNG LEE</td>\n",
       "      <td>4+</td>\n",
       "      <td>-1.0</td>\n",
       "      <td>-1.0</td>\n",
       "      <td>0.0</td>\n",
       "      <td>0</td>\n",
       "      <td>2017-02-09</td>\n",
       "      <td>2019-05-30</td>\n",
       "      <td>0.00</td>\n",
       "      <td>Education</td>\n",
       "      <td>['EN']</td>\n",
       "    </tr>\n",
       "    <tr>\n",
       "      <th>3</th>\n",
       "      <td>Arab Bureau of Education for the Gulf States</td>\n",
       "      <td>4+</td>\n",
       "      <td>-1.0</td>\n",
       "      <td>-1.0</td>\n",
       "      <td>0.0</td>\n",
       "      <td>0</td>\n",
       "      <td>2017-11-21</td>\n",
       "      <td>2017-11-21</td>\n",
       "      <td>0.00</td>\n",
       "      <td>Education</td>\n",
       "      <td>['EN']</td>\n",
       "    </tr>\n",
       "    <tr>\n",
       "      <th>4</th>\n",
       "      <td>Phuong Anh Do</td>\n",
       "      <td>12+</td>\n",
       "      <td>4.5</td>\n",
       "      <td>202.0</td>\n",
       "      <td>4.5</td>\n",
       "      <td>118</td>\n",
       "      <td>2016-09-07</td>\n",
       "      <td>2018-01-17</td>\n",
       "      <td>0.00</td>\n",
       "      <td>Book</td>\n",
       "      <td>['EN', 'VI']</td>\n",
       "    </tr>\n",
       "  </tbody>\n",
       "</table>\n",
       "</div>"
      ],
      "text/plain": [
       "                                 Developer_Name Age_Rating  \\\n",
       "0                                Wattana Kamdee         4+   \n",
       "1                                 CHEN-HUNG LEE         4+   \n",
       "2                                 CHEN-HUNG LEE         4+   \n",
       "3  Arab Bureau of Education for the Gulf States         4+   \n",
       "4                                 Phuong Anh Do        12+   \n",
       "\n",
       "   Total_Average_Rating  Total_Number_of_Ratings  Average_Rating_For_Version  \\\n",
       "0                  -1.0                     -1.0                         0.0   \n",
       "1                  -1.0                     -1.0                         0.0   \n",
       "2                  -1.0                     -1.0                         0.0   \n",
       "3                  -1.0                     -1.0                         0.0   \n",
       "4                   4.5                    202.0                         4.5   \n",
       "\n",
       "   Number_of_Ratings_For_Version Original_Release_Date  \\\n",
       "0                              0            2017-04-10   \n",
       "1                              0            2016-05-11   \n",
       "2                              0            2017-02-09   \n",
       "3                              0            2017-11-21   \n",
       "4                            118            2016-09-07   \n",
       "\n",
       "  Current_Version_Release_Date  Price_USD Primary_Genre     Languages  \n",
       "0                   2017-04-10       0.00         Games        ['EN']  \n",
       "1                   2019-05-30       6.99     Education        ['EN']  \n",
       "2                   2019-05-30       0.00     Education        ['EN']  \n",
       "3                   2017-11-21       0.00     Education        ['EN']  \n",
       "4                   2018-01-17       0.00          Book  ['EN', 'VI']  "
      ]
     },
     "execution_count": 2,
     "metadata": {},
     "output_type": "execute_result"
    }
   ],
   "source": [
    "ds = pd.read_csv('../datasets/dataset_clean.csv')\n",
    "ds.head()"
   ]
  },
  {
   "cell_type": "markdown",
   "id": "4e6c2002",
   "metadata": {},
   "source": [
    "# Data Analysis & Visualization"
   ]
  },
  {
   "cell_type": "markdown",
   "id": "3666709f",
   "metadata": {},
   "source": [
    "--------------------------------------------------------------------------------------------------------------------\n",
    "Most apps available on the Apple App Store consists of the following four genres: \n",
    "- **Games** (17905 Apps)\n",
    "- **Business** (129608 Apps)\n",
    "- **Education** (115845 Apps)\n",
    "- **Entertainment**.(55847 Apps)\n",
    "--------------------------------------------------------------------------------------------------------------------"
   ]
  },
  {
   "cell_type": "code",
   "execution_count": 3,
   "id": "3b1baf8a",
   "metadata": {},
   "outputs": [
    {
     "data": {
      "text/plain": [
       "Games                     179025\n",
       "Business                  129608\n",
       "Education                 115854\n",
       "Entertainment              55847\n",
       "Food & Drink               44183\n",
       "Finance                    38414\n",
       "Music                      17777\n",
       "Lifestyle                  13740\n",
       "Utilities                  12884\n",
       "Book                       12674\n",
       "Productivity               12448\n",
       "Travel                      8571\n",
       "Photo & Video               8072\n",
       "Reference                   7845\n",
       "Sports                      6225\n",
       "Shopping                    5736\n",
       "Stickers                    5219\n",
       "Social Networking           5129\n",
       "Medical                     4945\n",
       "News                        4652\n",
       "Health & Fitness            3805\n",
       "Navigation                  1013\n",
       "Magazines & Newspapers       377\n",
       "Weather                      244\n",
       "Name: Primary_Genre, dtype: int64"
      ]
     },
     "execution_count": 3,
     "metadata": {},
     "output_type": "execute_result"
    }
   ],
   "source": [
    "ds['Primary_Genre'].value_counts()"
   ]
  },
  {
   "cell_type": "markdown",
   "id": "ceb0ec74",
   "metadata": {},
   "source": [
    "--------------------------------------------------------------------------------------------------------------------\n",
    "Most apps available on the Apple App Store have an **Age Rating** of 4+, followed by 17+, 12+ and 9+.\n",
    "\n",
    "**Age ratings are systems used to ensure that entertainment content, such as games, but also films, tv shows or mobile apps, is clearly labelled with a minimum age recommendation based on the content they have.**\n",
    "\n",
    "--------------------------------------------------------------------------------------------------------------------"
   ]
  },
  {
   "cell_type": "code",
   "execution_count": 4,
   "id": "075f399d",
   "metadata": {},
   "outputs": [
    {
     "data": {
      "text/plain": [
       "4+               559388\n",
       "17+               64841\n",
       "12+               44931\n",
       "9+                25121\n",
       "Not yet rated         6\n",
       "Name: Age_Rating, dtype: int64"
      ]
     },
     "execution_count": 4,
     "metadata": {},
     "output_type": "execute_result"
    }
   ],
   "source": [
    "ds['Age_Rating'].value_counts()"
   ]
  },
  {
   "cell_type": "markdown",
   "id": "5b011b53",
   "metadata": {},
   "source": [
    "--------------------------------------------------------------------------------------------------------------------\n",
    "\n",
    "Applications targeting **Young Teens (12-14 years)** have the **highest average selling price (USD)** on the Apple App Store while the apps targeted for **middle age children (9-11 years)** have the **second lowest average selling price**, with the lowest being on apps which are not yet rated (Demonstrated Visually in the figure given in cell 6).\n",
    "\n",
    "--------------------------------------------------------------------------------------------------------------------"
   ]
  },
  {
   "cell_type": "code",
   "execution_count": 5,
   "id": "5480d312",
   "metadata": {},
   "outputs": [
    {
     "data": {
      "text/html": [
       "<div>\n",
       "<style scoped>\n",
       "    .dataframe tbody tr th:only-of-type {\n",
       "        vertical-align: middle;\n",
       "    }\n",
       "\n",
       "    .dataframe tbody tr th {\n",
       "        vertical-align: top;\n",
       "    }\n",
       "\n",
       "    .dataframe thead th {\n",
       "        text-align: right;\n",
       "    }\n",
       "</style>\n",
       "<table border=\"1\" class=\"dataframe\">\n",
       "  <thead>\n",
       "    <tr style=\"text-align: right;\">\n",
       "      <th></th>\n",
       "      <th>Age_Rating</th>\n",
       "      <th>Price_USD</th>\n",
       "    </tr>\n",
       "  </thead>\n",
       "  <tbody>\n",
       "    <tr>\n",
       "      <th>0</th>\n",
       "      <td>12+</td>\n",
       "      <td>0.561311</td>\n",
       "    </tr>\n",
       "    <tr>\n",
       "      <th>1</th>\n",
       "      <td>4+</td>\n",
       "      <td>0.529953</td>\n",
       "    </tr>\n",
       "    <tr>\n",
       "      <th>2</th>\n",
       "      <td>17+</td>\n",
       "      <td>0.477918</td>\n",
       "    </tr>\n",
       "    <tr>\n",
       "      <th>3</th>\n",
       "      <td>9+</td>\n",
       "      <td>0.445773</td>\n",
       "    </tr>\n",
       "    <tr>\n",
       "      <th>4</th>\n",
       "      <td>Not yet rated</td>\n",
       "      <td>0.165000</td>\n",
       "    </tr>\n",
       "  </tbody>\n",
       "</table>\n",
       "</div>"
      ],
      "text/plain": [
       "      Age_Rating  Price_USD\n",
       "0            12+   0.561311\n",
       "1             4+   0.529953\n",
       "2            17+   0.477918\n",
       "3             9+   0.445773\n",
       "4  Not yet rated   0.165000"
      ]
     },
     "execution_count": 5,
     "metadata": {},
     "output_type": "execute_result"
    }
   ],
   "source": [
    "# Dataset for Average Price of Each Age Rating\n",
    "ds_rating = ds.groupby('Age_Rating', as_index=False)['Price_USD'].mean()\n",
    "ds_rating = ds_rating.sort_values('Price_USD', ascending = False).reset_index(drop = True)\n",
    "ds_rating"
   ]
  },
  {
   "cell_type": "code",
   "execution_count": 6,
   "id": "19a69944",
   "metadata": {},
   "outputs": [
    {
     "data": {
      "text/plain": [
       "<AxesSubplot:xlabel='Age_Rating', ylabel='Price_USD'>"
      ]
     },
     "execution_count": 6,
     "metadata": {},
     "output_type": "execute_result"
    },
    {
     "data": {
      "image/png": "[encoded data removed]",
      "text/plain": [
       "<Figure size 1080x576 with 1 Axes>"
      ]
     },
     "metadata": {},
     "output_type": "display_data"
    }
   ],
   "source": [
    "sns.set_theme(style=\"whitegrid\")\n",
    "plt.figure(figsize=(15,8))\n",
    "sns.barplot(x=\"Age_Rating\", y=\"Price_USD\", data=ds_rating)"
   ]
  },
  {
   "cell_type": "markdown",
   "id": "d0233e6e",
   "metadata": {},
   "source": [
    "--------------------------------------------------------------------------------------------------------------------\n",
    "Developers like **MacHead, BRABUS, Caladan Software, etc.**, have the **highest selling average price (USD)** on their apps with total publishing on Apple App Store being **18, 2 & 2** respectively (Demonstrated Visually in the figure given in cell 9).\n",
    "\n",
    "--------------------------------------------------------------------------------------------------------------------"
   ]
  },
  {
   "cell_type": "code",
   "execution_count": 7,
   "id": "7345f887",
   "metadata": {},
   "outputs": [
    {
     "data": {
      "text/html": [
       "<div>\n",
       "<style scoped>\n",
       "    .dataframe tbody tr th:only-of-type {\n",
       "        vertical-align: middle;\n",
       "    }\n",
       "\n",
       "    .dataframe tbody tr th {\n",
       "        vertical-align: top;\n",
       "    }\n",
       "\n",
       "    .dataframe thead th {\n",
       "        text-align: right;\n",
       "    }\n",
       "</style>\n",
       "<table border=\"1\" class=\"dataframe\">\n",
       "  <thead>\n",
       "    <tr style=\"text-align: right;\">\n",
       "      <th></th>\n",
       "      <th>Developer_Name</th>\n",
       "      <th>Price_USD</th>\n",
       "    </tr>\n",
       "  </thead>\n",
       "  <tbody>\n",
       "    <tr>\n",
       "      <th>0</th>\n",
       "      <td>MacHead</td>\n",
       "      <td>999.99</td>\n",
       "    </tr>\n",
       "    <tr>\n",
       "      <th>1</th>\n",
       "      <td>BRABUS</td>\n",
       "      <td>999.99</td>\n",
       "    </tr>\n",
       "    <tr>\n",
       "      <th>2</th>\n",
       "      <td>Caladan Software</td>\n",
       "      <td>999.99</td>\n",
       "    </tr>\n",
       "    <tr>\n",
       "      <th>3</th>\n",
       "      <td>TDDAPPS LLC</td>\n",
       "      <td>999.99</td>\n",
       "    </tr>\n",
       "    <tr>\n",
       "      <th>4</th>\n",
       "      <td>Advanced Magnetic Analytics, LLC</td>\n",
       "      <td>549.99</td>\n",
       "    </tr>\n",
       "  </tbody>\n",
       "</table>\n",
       "</div>"
      ],
      "text/plain": [
       "                     Developer_Name  Price_USD\n",
       "0                           MacHead     999.99\n",
       "1                            BRABUS     999.99\n",
       "2                  Caladan Software     999.99\n",
       "3                       TDDAPPS LLC     999.99\n",
       "4  Advanced Magnetic Analytics, LLC     549.99"
      ]
     },
     "execution_count": 7,
     "metadata": {},
     "output_type": "execute_result"
    }
   ],
   "source": [
    "# Dataset for Average price of apps of each Developer\n",
    "ds_dev = ds.groupby('Developer_Name', as_index=False)['Price_USD'].mean()\n",
    "ds_dev = ds_dev.sort_values('Price_USD', ascending = False).reset_index(drop = True)\n",
    "ds_dev.head()"
   ]
  },
  {
   "cell_type": "code",
   "execution_count": 8,
   "id": "2e10eef3",
   "metadata": {},
   "outputs": [
    {
     "data": {
      "text/html": [
       "<div>\n",
       "<style scoped>\n",
       "    .dataframe tbody tr th:only-of-type {\n",
       "        vertical-align: middle;\n",
       "    }\n",
       "\n",
       "    .dataframe tbody tr th {\n",
       "        vertical-align: top;\n",
       "    }\n",
       "\n",
       "    .dataframe thead th {\n",
       "        text-align: right;\n",
       "    }\n",
       "</style>\n",
       "<table border=\"1\" class=\"dataframe\">\n",
       "  <thead>\n",
       "    <tr style=\"text-align: right;\">\n",
       "      <th></th>\n",
       "      <th>Developer_Name</th>\n",
       "      <th>Price_USD</th>\n",
       "      <th>Dev_Count</th>\n",
       "    </tr>\n",
       "  </thead>\n",
       "  <tbody>\n",
       "    <tr>\n",
       "      <th>0</th>\n",
       "      <td>MacHead</td>\n",
       "      <td>999.99</td>\n",
       "      <td>18</td>\n",
       "    </tr>\n",
       "    <tr>\n",
       "      <th>1</th>\n",
       "      <td>BRABUS</td>\n",
       "      <td>999.99</td>\n",
       "      <td>2</td>\n",
       "    </tr>\n",
       "    <tr>\n",
       "      <th>2</th>\n",
       "      <td>Caladan Software</td>\n",
       "      <td>999.99</td>\n",
       "      <td>2</td>\n",
       "    </tr>\n",
       "    <tr>\n",
       "      <th>3</th>\n",
       "      <td>TDDAPPS LLC</td>\n",
       "      <td>999.99</td>\n",
       "      <td>2</td>\n",
       "    </tr>\n",
       "    <tr>\n",
       "      <th>4</th>\n",
       "      <td>Advanced Magnetic Analytics, LLC</td>\n",
       "      <td>549.99</td>\n",
       "      <td>4</td>\n",
       "    </tr>\n",
       "    <tr>\n",
       "      <th>...</th>\n",
       "      <td>...</td>\n",
       "      <td>...</td>\n",
       "      <td>...</td>\n",
       "    </tr>\n",
       "    <tr>\n",
       "      <th>262157</th>\n",
       "      <td>Dominion IT Consulting, LLC</td>\n",
       "      <td>-1.00</td>\n",
       "      <td>3</td>\n",
       "    </tr>\n",
       "    <tr>\n",
       "      <th>262158</th>\n",
       "      <td>Cornfox &amp; Brothers Ltd.</td>\n",
       "      <td>-1.00</td>\n",
       "      <td>3</td>\n",
       "    </tr>\n",
       "    <tr>\n",
       "      <th>262159</th>\n",
       "      <td>TENDAYS STUDIO PTE. LTD.</td>\n",
       "      <td>-1.00</td>\n",
       "      <td>1</td>\n",
       "    </tr>\n",
       "    <tr>\n",
       "      <th>262160</th>\n",
       "      <td>The Marble Collective</td>\n",
       "      <td>-1.00</td>\n",
       "      <td>29</td>\n",
       "    </tr>\n",
       "    <tr>\n",
       "      <th>262161</th>\n",
       "      <td>William Chyr Studio</td>\n",
       "      <td>-1.00</td>\n",
       "      <td>27</td>\n",
       "    </tr>\n",
       "  </tbody>\n",
       "</table>\n",
       "<p>262162 rows × 3 columns</p>\n",
       "</div>"
      ],
      "text/plain": [
       "                          Developer_Name  Price_USD  Dev_Count\n",
       "0                                MacHead     999.99         18\n",
       "1                                 BRABUS     999.99          2\n",
       "2                       Caladan Software     999.99          2\n",
       "3                            TDDAPPS LLC     999.99          2\n",
       "4       Advanced Magnetic Analytics, LLC     549.99          4\n",
       "...                                  ...        ...        ...\n",
       "262157       Dominion IT Consulting, LLC      -1.00          3\n",
       "262158           Cornfox & Brothers Ltd.      -1.00          3\n",
       "262159          TENDAYS STUDIO PTE. LTD.      -1.00          1\n",
       "262160             The Marble Collective      -1.00         29\n",
       "262161               William Chyr Studio      -1.00         27\n",
       "\n",
       "[262162 rows x 3 columns]"
      ]
     },
     "execution_count": 8,
     "metadata": {},
     "output_type": "execute_result"
    }
   ],
   "source": [
    "ds_dev['Dev_Count'] = ds['Developer_Name'].map(ds['Developer_Name'].value_counts())\n",
    "ds_dev"
   ]
  },
  {
   "cell_type": "code",
   "execution_count": 9,
   "id": "36e5ce7b",
   "metadata": {},
   "outputs": [
    {
     "data": {
      "image/png": "[encoded data removed]",
      "text/plain": [
       "<Figure size 1080x504 with 2 Axes>"
      ]
     },
     "metadata": {},
     "output_type": "display_data"
    }
   ],
   "source": [
    "# Plots\n",
    "sns.set_theme(style=\"whitegrid\")\n",
    "fig, ax =plt.subplots(1,2, figsize=(15,7))\n",
    "sns.barplot(x=\"Developer_Name\", y=\"Price_USD\", data=ds_dev.head(),ax=ax[0])\n",
    "ax[0].tick_params(axis='x', rotation=45)\n",
    "sns.barplot(x=\"Developer_Name\", y=\"Dev_Count\", data=ds_dev.head(),ax=ax[1])\n",
    "ax[1].tick_params(axis='x', rotation=45)"
   ]
  }
 ],
 "metadata": {
  "kernelspec": {
   "display_name": "Python 3",
   "language": "python",
   "name": "python3"
  },
  "language_info": {
   "codemirror_mode": {
    "name": "ipython",
    "version": 3
   },
   "file_extension": ".py",
   "mimetype": "text/x-python",
   "name": "python",
   "nbconvert_exporter": "python",
   "pygments_lexer": "ipython3",
   "version": "3.8.8"
  }
 },
 "nbformat": 4,
 "nbformat_minor": 5
}
